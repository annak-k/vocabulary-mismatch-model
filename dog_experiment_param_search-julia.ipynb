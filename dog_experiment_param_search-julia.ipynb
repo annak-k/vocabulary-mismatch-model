{
 "cells": [
  {
   "cell_type": "code",
   "execution_count": 1,
   "metadata": {},
   "outputs": [],
   "source": [
    "from collections import defaultdict\n",
    "import model\n",
    "import pandas as pd\n",
    "from collections import Counter\n",
    "import numpy as np\n",
    "from tqdm import tqdm\n",
    "\n",
    "actual = {\n",
    "    \"dog_trainer\": [\n",
    "        {\"dog\": 0.422, \"dalmatian\": 0.567, \"spotted_dog\": 0.011},\n",
    "        {\"dalmatian\": 0.978, \"spotted_dog\": 0.022},\n",
    "        {\"pug\": 0.967, \"small_dog\": 0.033}],\n",
    "    \"child\": [\n",
    "        {\"dog\": 0.522, \"dalmatian\": 0.244, \"spotted_dog\": 0.233},\n",
    "        {\"dalmatian\": 0.356, \"spotted_dog\": 0.644},\n",
    "        {\"pug\": 0.5, \"small_dog\": 0.5}]}\n",
    "\n",
    "contexts = [\n",
    "    [\"DALMATIAN\", \"CAT\", \"HORSE\"],\n",
    "    [\"DALMATIAN\", \"PUG\", \"POODLE\"],\n",
    "    [\"PUG\", \"DALMATIAN\", \"POODLE\"]]\n",
    "\n",
    "\n",
    "def get_total_variation_distance(actual, predicted):\n",
    "    compare = []\n",
    "    for word in set(actual.keys()).union(set(predicted.keys())):\n",
    "        prob1 = predicted.get(word, 0)\n",
    "        prob2 = actual.get(word, 0)\n",
    "        compare.append(abs(prob1 - prob2))\n",
    "    return sum(compare) / 2\n",
    "    \n",
    "    \n",
    "def get_rank_score(actual, predicted):\n",
    "    # TODO: make sure this is over the union\n",
    "    # TODO: make this handle ties\n",
    "    \n",
    "\n",
    "    score_to_vals_actual = defaultdict(list)\n",
    "    score_to_vals_predicted = defaultdict(list)\n",
    "    for k, v in actual.items():\n",
    "        if k not in predicted:\n",
    "            continue\n",
    "        score_to_vals_actual[v].append(k)\n",
    "        # if k not in predicted:\n",
    "        #     score_to_vals_predicted[0.0].append(k)\n",
    "    for k, v in predicted.items():\n",
    "        if k not in actual:\n",
    "            continue\n",
    "        score_to_vals_predicted[v].append(k)\n",
    "        # if k not in actual:\n",
    "        #     score_to_vals_actual[0.0].append(k)\n",
    "\n",
    "    actual_ranking = [\n",
    "        score_to_vals_actual[score]\n",
    "        for score in sorted(score_to_vals_actual.keys())]\n",
    "    predicted_ranking = [\n",
    "        score_to_vals_predicted[score]\n",
    "        for score in sorted(score_to_vals_predicted.keys())]\n",
    "    # print(predicted_ranking)\n",
    "\n",
    "    pred_rank_tier_i = 0\n",
    "    j = 0\n",
    "    for actual_rank_tier in actual_ranking:\n",
    "        actual_remaining = actual_rank_tier[:]\n",
    "        while actual_remaining != []:\n",
    "            if j >= len(predicted_ranking[pred_rank_tier_i]):\n",
    "                j = 0\n",
    "                pred_rank_tier_i += 1\n",
    "            found = False\n",
    "            for item in predicted_ranking[pred_rank_tier_i]:\n",
    "                # print(item)\n",
    "                if item in actual_remaining:\n",
    "                    actual_remaining.remove(item)\n",
    "                    j += 1\n",
    "                    found = True\n",
    "            if not found:\n",
    "                return 0\n",
    "    return 1\n",
    "\n",
    "\n",
    "\n",
    "assert 1 == get_rank_score(\n",
    "    {\"dog\": 0.422, \"dalmatian\": 0.567, \"spotted_dog\": 0.011},\n",
    "    {\"dog\": 0.15, \"dalmatian\": 0.8, \"spotted_dog\": 0.05})\n",
    "\n",
    "assert 1 == get_rank_score(\n",
    "    {\"dog\": 0.422, \"dalmatian\": 0.567, \"spotted_dog\": 0.011},\n",
    "    {\"dog\": 0.1, \"dalmatian\": 0.8, \"spotted_dog\": 0.1})\n",
    "\n",
    "assert 0 == get_rank_score(\n",
    "    {\"dog\": 0.422, \"dalmatian\": 0.567, \"spotted_dog\": 0.011},\n",
    "    {\"dog\": 0.05, \"dalmatian\": 0.8, \"spotted_dog\": 0.15})\n",
    "\n",
    "assert 1 == get_rank_score(\n",
    "    {\"dog\": 0.15, \"dalmatian\": 0.8, \"spotted_dog\": 0.05},\n",
    "    {\"dog\": 0.422, \"dalmatian\": 0.567, \"spotted_dog\": 0.011})\n",
    "\n",
    "assert 1 == get_rank_score(\n",
    "    {\"dog\": 0.1, \"dalmatian\": 0.8, \"spotted_dog\": 0.1},\n",
    "    {\"dog\": 0.422, \"dalmatian\": 0.567, \"spotted_dog\": 0.011})\n",
    "\n",
    "assert 1 == get_rank_score(\n",
    "    {\"dog\": 0.1, \"dalmatian\": 0.8, \"spotted_dog\": 0.1},\n",
    "    {\"dog\": 0.11, \"dalmatian\": 0.567, \"spotted_dog\": 0.422})\n",
    "\n",
    "assert 0 == get_rank_score(\n",
    "    {\"dog\": 0.05, \"dalmatian\": 0.8, \"spotted_dog\": 0.15},\n",
    "    {\"dog\": 0.422, \"dalmatian\": 0.567, \"spotted_dog\": 0.011})\n"
   ]
  },
  {
   "cell_type": "code",
   "execution_count": 16,
   "metadata": {},
   "outputs": [
    {
     "data": {
      "text/plain": [
       "0.36302131448039615"
      ]
     },
     "execution_count": 16,
     "metadata": {},
     "output_type": "execute_result"
    }
   ],
   "source": [
    "\n",
    "\n",
    "a = get_total_variation_distance(\n",
    "    {'pug': 0.5, 'small_dog': 0.5},\n",
    "    {'pug': 0.004037296495728008,\n",
    "     'small_dog': 0.9863089942568528,\n",
    "     'dog': 0.009653709247419148})\n",
    "\n",
    "b = get_total_variation_distance(\n",
    "    {'dalmatian': 0.356, 'spotted_dog': 0.644},\n",
    "{'dalmatian': 0.005690954021094229, 'spotted_dog': 0.9846713653728089, 'dog': 0.009637680606097015})\n",
    "\n",
    "c = get_total_variation_distance(\n",
    "    {'dog': 0.522, 'dalmatian': 0.244, 'spotted_dog': 0.233},\n",
    "{'dalmatian': 0.0017078060419892622, 'spotted_dog': 0.2954913536332111, 'dog': 0.7028008403247996},)\n",
    "\n",
    "(a + b + c) / 3"
   ]
  },
  {
   "cell_type": "code",
   "execution_count": 2,
   "metadata": {},
   "outputs": [
    {
     "name": "stderr",
     "output_type": "stream",
     "text": [
      "  0%|          | 0/5 [00:00<?, ?it/s]/home/jreneewatson/vocabulary-mismatch-model/model.py:186: RuntimeWarning: divide by zero encountered in log\n",
      "  np.log(combined_listener[w, o]), np.NaN)\n",
      "/home/jreneewatson/vocabulary-mismatch-model/model.py:191: RuntimeWarning: divide by zero encountered in log\n",
      "  self.params[\"speaker weight\"] * self.preferences[w, o]),\n",
      "100%|██████████| 5/5 [01:38<00:00, 19.76s/it]\n"
     ]
    },
    {
     "data": {
      "text/plain": [
       "{'lambda': 5,\n",
       " 'length cost': True,\n",
       " 'length cost smoothing': 0.25,\n",
       " 'speaker weight': 0.0,\n",
       " 'proportion correct ranking': 0.6666666666666666,\n",
       " 'result_trainer': 0.0479990755989749,\n",
       " 'result_child': 0.09924624047758601,\n",
       " 'result_avg': 0.07362265803828046,\n",
       " 'pref_weight': 0.25,\n",
       " 'pragmatic_weight': 1.0}"
      ]
     },
     "execution_count": 2,
     "metadata": {},
     "output_type": "execute_result"
    }
   ],
   "source": [
    "# speaker_weights = np.arange(0, 1.1, 0.1)\n",
    "# length_cost_params = np.arange(0, 6, 1)\n",
    "\n",
    "# speaker_weights = np.arange(0, 1.1, 0.1)\n",
    "# length_cost_params = np.arange(0, 1.1, 0.1)\n",
    "# pragmatic_weight_params = np.arange(0, 1.1, 0.1)\n",
    "# preferences_weight_params = np.arange(0, 1.1, 0.1)\n",
    "\n",
    "speaker_weights = np.arange(0, 1.25, 0.25)\n",
    "length_cost_params = np.arange(0, 1.25, 0.25)\n",
    "pragmatic_weight_params = np.arange(0, 1.25, 0.25)\n",
    "preferences_weight_params = np.arange(0, 1.25, 0.25)\n",
    "\n",
    "lambdas = np.arange(1, 26, 1)\n",
    "\n",
    "\n",
    "best_result = None\n",
    "best_score = None\n",
    "\n",
    "for speaker_weight in tqdm(speaker_weights):\n",
    "    for length_cost in [False, True]:\n",
    "        for lambda_val in lambdas:\n",
    "            for pragmatic_weight in pragmatic_weight_params:\n",
    "                for pref_weight in preferences_weight_params:\n",
    "                    for length_cost_param in length_cost_params:\n",
    "                        if length_cost is False and length_cost_param != length_cost_params[0]:\n",
    "                            continue\n",
    "                        lcp = length_cost_param\n",
    "                        child_agent = model.Agent(\n",
    "                            \"child\", lambda_param=lambda_val, \n",
    "                            speaker_weight=speaker_weight, length_cost_smoothing=lcp,\n",
    "                            pref_weight=pref_weight, pragmatic_weight=pragmatic_weight)\n",
    "                        adult_agent = model.Agent(\n",
    "                            \"general_adult\", lambda_param=lambda_val, \n",
    "                            speaker_weight=speaker_weight, length_cost_smoothing=lcp,\n",
    "                            pref_weight=pref_weight, pragmatic_weight=pragmatic_weight)\n",
    "                        dog_trainer_agent = model.Agent(\n",
    "                            \"dog_trainer\", lambda_param=lambda_val,\n",
    "                            speaker_weight=speaker_weight, length_cost_smoothing=lcp,\n",
    "                            pref_weight=pref_weight, pragmatic_weight=pragmatic_weight)\n",
    "\n",
    "                        total_variation_child = []\n",
    "                        total_variation_dog_trainer = []\n",
    "                        rank_prop = []\n",
    "                        for c, context in enumerate(contexts):\n",
    "                            to_child = adult_agent.produce_matrix_mutant(\n",
    "                                context, child_agent, length_cost=length_cost)\n",
    "                            to_dog_trainer = adult_agent.produce_matrix_mutant(\n",
    "                                context, dog_trainer_agent, length_cost=length_cost)\n",
    "\n",
    "                            child_score = get_total_variation_distance(\n",
    "                                actual[\"child\"][c], to_child)\n",
    "                            trainer_score = get_total_variation_distance(\n",
    "                                actual[\"dog_trainer\"][c], to_dog_trainer)\n",
    "\n",
    "                            child_rank_score = get_rank_score(\n",
    "                                actual[\"child\"][c], to_child)\n",
    "                            trainer_rank_score = get_rank_score(\n",
    "                                actual[\"dog_trainer\"][c], to_dog_trainer)\n",
    "\n",
    "                            total_variation_child.append(child_score)\n",
    "                            total_variation_dog_trainer.append(trainer_score)\n",
    "                            rank_prop.extend([child_rank_score, trainer_rank_score])\n",
    "\n",
    "                        total_variation_child = np.mean(total_variation_child)\n",
    "                        total_variation_dog_trainer = np.mean(total_variation_dog_trainer)\n",
    "                        rank_prop = np.mean(rank_prop)\n",
    "\n",
    "                        total_variation_avg = np.mean(\n",
    "                            [total_variation_child, total_variation_dog_trainer])\n",
    "\n",
    "                        if best_score is None or total_variation_avg <= best_score:\n",
    "                            best_score = total_variation_avg\n",
    "                            best_result = {\n",
    "                                \"lambda\": lambda_val,\n",
    "                                \"length cost\": length_cost,\n",
    "                                \"length cost smoothing\": lcp,\n",
    "                                \"speaker weight\": speaker_weight,\n",
    "                                \"proportion correct ranking\": rank_prop,\n",
    "                                \"result_trainer\": total_variation_dog_trainer,\n",
    "                                \"result_child\": total_variation_child,\n",
    "                                \"result_avg\": total_variation_avg,\n",
    "                                \"pref_weight\": pref_weight,\n",
    "                                \"pragmatic_weight\": pragmatic_weight}\n",
    "\n",
    "best_result\n"
   ]
  },
  {
   "cell_type": "code",
   "execution_count": 18,
   "metadata": {},
   "outputs": [
    {
     "name": "stdout",
     "output_type": "stream",
     "text": [
      "{'dalmatian': 0.1351771595194843, 'spotted_dog': 0.25598484425017426, 'dog': 0.6088379962303413}\n",
      "{'dog': 0.522, 'dalmatian': 0.244, 'spotted_dog': 0.233}\n",
      "[0]\n",
      "[0, 1]\n",
      "[0, 1, 2]\n"
     ]
    },
    {
     "data": {
      "image/png": "[encoded data removed]",
      "text/plain": [
       "<Figure size 432x288 with 1 Axes>"
      ]
     },
     "metadata": {},
     "output_type": "display_data"
    },
    {
     "name": "stdout",
     "output_type": "stream",
     "text": [
      "\n",
      "\n",
      "\n",
      "{'dalmatian': 0.48318814064376814, 'spotted_dog': 0.02751517461108315, 'dog': 0.4892966847451487}\n",
      "{'dog': 0.422, 'dalmatian': 0.567, 'spotted_dog': 0.011}\n",
      "[0]\n",
      "[0, 1]\n",
      "[0, 1, 2]\n"
     ]
    },
    {
     "data": {
      "image/png": "[encoded data removed]",
      "text/plain": [
       "<Figure size 432x288 with 1 Axes>"
      ]
     },
     "metadata": {},
     "output_type": "display_data"
    },
    {
     "name": "stdout",
     "output_type": "stream",
     "text": [
      "\n",
      "\n",
      "\n",
      "{'dalmatian': 0.3433790092165749, 'spotted_dog': 0.650256467183824, 'dog': 0.006364523599601122}\n",
      "{'dalmatian': 0.356, 'spotted_dog': 0.644}\n",
      "[0]\n",
      "[0, 1]\n"
     ]
    },
    {
     "data": {
      "image/png": "[encoded data removed]",
      "text/plain": [
       "<Figure size 432x288 with 1 Axes>"
      ]
     },
     "metadata": {},
     "output_type": "display_data"
    },
    {
     "name": "stdout",
     "output_type": "stream",
     "text": [
      "\n",
      "\n",
      "\n",
      "{'dalmatian': 0.9424073162796535, 'spotted_dog': 0.053665435222910965, 'dog': 0.003927248497435392}\n",
      "{'dalmatian': 0.978, 'spotted_dog': 0.022}\n",
      "[0]\n",
      "[0, 1]\n"
     ]
    },
    {
     "data": {
      "image/png": "[encoded data removed]",
      "text/plain": [
       "<Figure size 432x288 with 1 Axes>"
      ]
     },
     "metadata": {},
     "output_type": "display_data"
    },
    {
     "name": "stdout",
     "output_type": "stream",
     "text": [
      "\n",
      "\n",
      "\n",
      "{'pug': 0.32420510983118267, 'small_dog': 0.6692445169895537, 'dog': 0.0065503731792636724}\n",
      "{'pug': 0.5, 'small_dog': 0.5}\n",
      "[0]\n",
      "[0, 1]\n"
     ]
    },
    {
     "data": {
      "image/png": "[encoded data removed]",
      "text/plain": [
       "<Figure size 432x288 with 1 Axes>"
      ]
     },
     "metadata": {},
     "output_type": "display_data"
    },
    {
     "name": "stdout",
     "output_type": "stream",
     "text": [
      "\n",
      "\n",
      "\n",
      "{'pug': 0.9424073162796535, 'small_dog': 0.053665435222910965, 'dog': 0.003927248497435392}\n",
      "{'pug': 0.967, 'small_dog': 0.033}\n",
      "[0]\n",
      "[0, 1]\n"
     ]
    },
    {
     "data": {
      "image/png": "[encoded data removed]",
      "text/plain": [
       "<Figure size 432x288 with 1 Axes>"
      ]
     },
     "metadata": {},
     "output_type": "display_data"
    },
    {
     "name": "stdout",
     "output_type": "stream",
     "text": [
      "\n",
      "\n",
      "\n"
     ]
    }
   ],
   "source": [
    "import visualizations\n",
    "\n",
    "best_result = {'lambda': 5,\n",
    " 'length cost': True,\n",
    " 'length cost smoothing': 0.25,\n",
    " 'speaker weight': 0.0,\n",
    " 'proportion correct ranking': 0.6666666666666666,\n",
    " 'result_trainer': 0.0479990755989749,\n",
    " 'result_child': 0.09924624047758601,\n",
    " 'result_avg': 0.07362265803828046,\n",
    " 'pref_weight': 0.25,\n",
    " 'pragmatic_weight': 1.0}\n",
    "\n",
    "child_agent = model.Agent(\n",
    "    \"child\",\n",
    "    lambda_param=best_result[\"lambda\"], \n",
    "    speaker_weight=best_result[\"speaker weight\"],\n",
    "    pref_weight=best_result[\"pref_weight\"],\n",
    "    pragmatic_weight=best_result[\"pragmatic_weight\"],\n",
    "    length_cost_smoothing=best_result[\"length cost smoothing\"])\n",
    "adult_agent = model.Agent(\n",
    "    \"general_adult\",\n",
    "    lambda_param=best_result[\"lambda\"], \n",
    "    speaker_weight=best_result[\"speaker weight\"],\n",
    "    pref_weight=best_result[\"pref_weight\"],\n",
    "    pragmatic_weight=best_result[\"pragmatic_weight\"],\n",
    "    length_cost_smoothing=best_result[\"length cost smoothing\"])\n",
    "dog_trainer_agent = model.Agent(\n",
    "    \"dog_trainer\",\n",
    "    lambda_param=best_result[\"lambda\"], \n",
    "    speaker_weight=best_result[\"speaker weight\"],\n",
    "    pref_weight=best_result[\"pref_weight\"],\n",
    "    pragmatic_weight=best_result[\"pragmatic_weight\"],\n",
    "    length_cost_smoothing=best_result[\"length cost smoothing\"])\n",
    "\n",
    "for c, context in enumerate(contexts):\n",
    "    to_child = adult_agent.produce_matrix_mutant(\n",
    "        context, child_agent, length_cost=best_result[\"length cost\"])\n",
    "    to_dog_trainer = adult_agent.produce_matrix_mutant(\n",
    "        context, dog_trainer_agent, length_cost=best_result[\"length cost\"])\n",
    "    print(to_child)\n",
    "    print(actual['child'][c])\n",
    "    visualizations.make_pie_plot(to_child)\n",
    "    print(\"\\n\\n\")\n",
    "    \n",
    "    print(to_dog_trainer)\n",
    "    print(actual['dog_trainer'][c])\n",
    "    visualizations.make_pie_plot(to_dog_trainer)\n",
    "    print(\"\\n\\n\")\n"
   ]
  },
  {
   "cell_type": "code",
   "execution_count": 4,
   "metadata": {},
   "outputs": [
    {
     "name": "stderr",
     "output_type": "stream",
     "text": [
      "/home/jreneewatson/vocabulary-mismatch-model/model.py:117: RuntimeWarning: divide by zero encountered in log\n",
      "  utility = np.where(listener[w, o] > 0.00001, np.log(listener[w, o]), np.NaN)\n"
     ]
    },
    {
     "data": {
      "text/plain": [
       "{'lambda': 25,\n",
       " 'proportion correct ranking': 1.0,\n",
       " 'result_trainer': 0.42244444444464113,\n",
       " 'result_child': 0.11105555555585062,\n",
       " 'result_avg': 0.26675000000024585}"
      ]
     },
     "execution_count": 4,
     "metadata": {},
     "output_type": "execute_result"
    }
   ],
   "source": [
    "length_cost_params = np.arange(0, 10, 1)\n",
    "# lambdas = [1]\n",
    "contexts = [\n",
    "    [\"DALMATIAN\", \"CAT\", \"HORSE\"],\n",
    "    [\"DALMATIAN\", \"PUG\", \"POODLE\"],\n",
    "    [\"PUG\", \"DALMATIAN\", \"POODLE\"]]\n",
    "\n",
    "best_result = None\n",
    "best_score = None\n",
    "for lambda_val in lambdas:\n",
    "    adult_agent = model.Agent(\"general_adult\", lambda_param=lambda_val)\n",
    "    \n",
    "    total_variation_child = []\n",
    "    total_variation_dog_trainer = []\n",
    "    rank_prop = []\n",
    "    for c, context in enumerate(contexts):\n",
    "        produce = adult_agent.produce_matrix_plain(context)\n",
    "\n",
    "        child_score = get_total_variation_distance(\n",
    "            actual[\"child\"][c], produce)\n",
    "        trainer_score = get_total_variation_distance(\n",
    "            actual[\"dog_trainer\"][c], produce)\n",
    "\n",
    "        child_rank_score = get_rank_score(\n",
    "            actual[\"child\"][c], produce)\n",
    "        trainer_rank_score = get_rank_score(\n",
    "            actual[\"dog_trainer\"][c], produce)\n",
    "\n",
    "        total_variation_child.append(child_score)\n",
    "        total_variation_dog_trainer.append(trainer_score)\n",
    "        rank_prop.extend([child_rank_score, trainer_rank_score])\n",
    "\n",
    "    total_variation_child = np.mean(total_variation_child)\n",
    "    total_variation_dog_trainer = np.mean(total_variation_dog_trainer)\n",
    "    rank_prop = np.mean(rank_prop)\n",
    "\n",
    "    total_variation_avg = np.mean(\n",
    "        [total_variation_child, total_variation_dog_trainer])\n",
    "\n",
    "    if best_score is None or total_variation_avg <= best_score:\n",
    "        best_score = total_variation_avg\n",
    "        best_result = {\n",
    "            \"lambda\": lambda_val,\n",
    "            \"proportion correct ranking\": rank_prop,\n",
    "            \"result_trainer\": total_variation_dog_trainer,\n",
    "            \"result_child\": total_variation_child,\n",
    "            \"result_avg\": total_variation_avg}\n",
    "\n",
    "\n",
    "best_result"
   ]
  },
  {
   "cell_type": "code",
   "execution_count": 5,
   "metadata": {},
   "outputs": [
    {
     "name": "stdout",
     "output_type": "stream",
     "text": [
      "{'dalmatian': 0.3333333333333333, 'spotted_dog': 0.3333333333333333, 'dog': 0.3333333333333333}\n",
      "{'dog': 0.522, 'dalmatian': 0.244, 'spotted_dog': 0.233}\n",
      "{'dog': 0.422, 'dalmatian': 0.567, 'spotted_dog': 0.011}\n",
      "[0]\n",
      "[0, 1]\n",
      "[0, 1, 2]\n"
     ]
    },
    {
     "name": "stderr",
     "output_type": "stream",
     "text": [
      "/home/jreneewatson/vocabulary-mismatch-model/model.py:117: RuntimeWarning: divide by zero encountered in log\n",
      "  utility = np.where(listener[w, o] > 0.00001, np.log(listener[w, o]), np.NaN)\n"
     ]
    },
    {
     "data": {
      "image/png": "[encoded data removed]",
      "text/plain": [
       "<Figure size 432x288 with 1 Axes>"
      ]
     },
     "metadata": {},
     "output_type": "display_data"
    },
    {
     "name": "stdout",
     "output_type": "stream",
     "text": [
      "\n",
      "\n",
      "\n",
      "{'dalmatian': 0.4999999999997049, 'spotted_dog': 0.4999999999997049, 'dog': 5.901176935783424e-13}\n",
      "{'dalmatian': 0.356, 'spotted_dog': 0.644}\n",
      "{'dalmatian': 0.978, 'spotted_dog': 0.022}\n",
      "[0]\n",
      "[0, 1]\n"
     ]
    },
    {
     "data": {
      "image/png": "[encoded data removed]",
      "text/plain": [
       "<Figure size 432x288 with 1 Axes>"
      ]
     },
     "metadata": {},
     "output_type": "display_data"
    },
    {
     "name": "stdout",
     "output_type": "stream",
     "text": [
      "\n",
      "\n",
      "\n",
      "{'pug': 0.4999999999997049, 'small_dog': 0.4999999999997049, 'dog': 5.901176935783424e-13}\n",
      "{'pug': 0.5, 'small_dog': 0.5}\n",
      "{'pug': 0.967, 'small_dog': 0.033}\n",
      "[0]\n",
      "[0, 1]\n"
     ]
    },
    {
     "data": {
      "image/png": "[encoded data removed]",
      "text/plain": [
       "<Figure size 432x288 with 1 Axes>"
      ]
     },
     "metadata": {},
     "output_type": "display_data"
    },
    {
     "name": "stdout",
     "output_type": "stream",
     "text": [
      "\n",
      "\n",
      "\n"
     ]
    }
   ],
   "source": [
    "best_result = {'lambda': 25,\n",
    " 'proportion correct ranking': 1.0,\n",
    " 'result_trainer': 0.42244444444444523,\n",
    " 'result_child': 0.11105555555555678,\n",
    " 'result_avg': 0.266750000000001}\n",
    "\n",
    "adult_agent = model.Agent(\"general_adult\", lambda_param=lambda_val)\n",
    "\n",
    "for c, context in enumerate(contexts):\n",
    "    produce = adult_agent.produce_matrix_plain(context)\n",
    "\n",
    "    print(produce)\n",
    "    print(actual['child'][c])\n",
    "    print(actual['dog_trainer'][c])\n",
    "    visualizations.make_pie_plot(produce)\n",
    "\n",
    "    print(\"\\n\\n\")\n"
   ]
  }
 ],
 "metadata": {
  "kernelspec": {
   "display_name": "Python 3",
   "language": "python",
   "name": "python3"
  },
  "language_info": {
   "codemirror_mode": {
    "name": "ipython",
    "version": 3
   },
   "file_extension": ".py",
   "mimetype": "text/x-python",
   "name": "python",
   "nbconvert_exporter": "python",
   "pygments_lexer": "ipython3",
   "version": "3.7.1"
  }
 },
 "nbformat": 4,
 "nbformat_minor": 2
}
