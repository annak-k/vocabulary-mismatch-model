{
 "cells": [
  {
   "cell_type": "markdown",
   "metadata": {},
   "source": [
    "## Dog experiments\n",
    "\n",
    "In these simulations, I used a \"mutant lexicon\", which is an average of the speaker and addressee lexicons."
   ]
  },
  {
   "cell_type": "code",
   "execution_count": 1,
   "metadata": {},
   "outputs": [],
   "source": [
    "import model\n",
    "lambda_val = 1\n",
    "child_agent = model.Agent(\"child\", lambda_param=lambda_val)\n",
    "adult_agent = model.Agent(\"general_adult\", lambda_param=lambda_val)\n",
    "dog_trainer_agent = model.Agent(\"dog_trainer\", lambda_param=lambda_val)"
   ]
  },
  {
   "cell_type": "code",
   "execution_count": 6,
   "metadata": {},
   "outputs": [
    {
     "name": "stdout",
     "output_type": "stream",
     "text": [
      "to child ['DALMATIAN', 'CAT', 'HORSE'] {'dalmatian': 0.20833333333333331, 'spotted_dog': 0.375, 'dog': 0.41666666666666663}\n",
      "to dog trainer ['DALMATIAN', 'CAT', 'HORSE'] {'dalmatian': 0.375, 'spotted_dog': 0.20833333333333331, 'dog': 0.41666666666666663}\n"
     ]
    }
   ],
   "source": [
    "# Without length cost\n",
    "context1 = [\"DALMATIAN\", \"CAT\", \"HORSE\"]\n",
    "\n",
    "print(\"to child\", context1, adult_agent.produce_matrix_mutant(context1, child_agent))\n",
    "print(\"to dog trainer\", context1, adult_agent.produce_matrix_mutant(context1, dog_trainer_agent))\n"
   ]
  },
  {
   "cell_type": "code",
   "execution_count": 8,
   "metadata": {},
   "outputs": [
    {
     "name": "stdout",
     "output_type": "stream",
     "text": [
      "to child ['DALMATIAN', 'CAT', 'HORSE'] {'dalmatian': 0.2564102564102564, 'spotted_dog': 0.23076923076923075, 'dog': 0.5128205128205128}\n",
      "to dog trainer ['DALMATIAN', 'CAT', 'HORSE'] {'dalmatian': 0.4186046511627907, 'spotted_dog': 0.11627906976744186, 'dog': 0.46511627906976744}\n"
     ]
    }
   ],
   "source": [
    "# With length cost\n",
    "context1 = [\"DALMATIAN\", \"CAT\", \"HORSE\"]\n",
    "\n",
    "print(\"to child\", context1, adult_agent.produce_matrix_mutant(context1, child_agent, length_cost=True))\n",
    "print(\"to dog trainer\", context1, adult_agent.produce_matrix_mutant(context1, dog_trainer_agent, length_cost=True))\n"
   ]
  },
  {
   "cell_type": "code",
   "execution_count": 9,
   "metadata": {},
   "outputs": [
    {
     "name": "stdout",
     "output_type": "stream",
     "text": [
      "to child ['DALMATIAN', 'PUG', 'POODLE'] {'dalmatian': 0.28846153846153844, 'spotted_dog': 0.5192307692307693, 'dog': 0.1923076923076923}\n",
      "to dog trainer ['DALMATIAN', 'PUG', 'POODLE'] {'dalmatian': 0.5192307692307693, 'spotted_dog': 0.28846153846153844, 'dog': 0.1923076923076923}\n"
     ]
    }
   ],
   "source": [
    "# Without length cost\n",
    "\n",
    "context2 = [\"DALMATIAN\", \"PUG\", \"POODLE\"]\n",
    "\n",
    "print(\"to child\", context2, adult_agent.produce_matrix_mutant(context2, child_agent))\n",
    "print(\"to dog trainer\", context2, adult_agent.produce_matrix_mutant(context2, dog_trainer_agent))\n"
   ]
  },
  {
   "cell_type": "code",
   "execution_count": 11,
   "metadata": {},
   "outputs": [
    {
     "name": "stdout",
     "output_type": "stream",
     "text": [
      "to child ['DALMATIAN', 'PUG', 'POODLE'] {'dalmatian': 0.3896103896103896, 'spotted_dog': 0.35064935064935066, 'dog': 0.25974025974025966}\n",
      "to dog trainer ['DALMATIAN', 'PUG', 'POODLE'] {'dalmatian': 0.6067415730337079, 'spotted_dog': 0.16853932584269665, 'dog': 0.22471910112359547}\n"
     ]
    }
   ],
   "source": [
    "# With length cost\n",
    "\n",
    "context2 = [\"DALMATIAN\", \"PUG\", \"POODLE\"]\n",
    "\n",
    "print(\"to child\", context2, adult_agent.produce_matrix_mutant(context2, child_agent, length_cost=True))\n",
    "print(\"to dog trainer\", context2, adult_agent.produce_matrix_mutant(context2, dog_trainer_agent, length_cost=True))\n"
   ]
  }
 ],
 "metadata": {
  "kernelspec": {
   "display_name": "Python 3",
   "language": "python",
   "name": "python3"
  },
  "language_info": {
   "codemirror_mode": {
    "name": "ipython",
    "version": 3
   },
   "file_extension": ".py",
   "mimetype": "text/x-python",
   "name": "python",
   "nbconvert_exporter": "python",
   "pygments_lexer": "ipython3",
   "version": "3.7.1"
  }
 },
 "nbformat": 4,
 "nbformat_minor": 2
}
