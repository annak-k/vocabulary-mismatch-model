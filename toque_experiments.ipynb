{
 "cells": [
  {
   "cell_type": "markdown",
   "metadata": {},
   "source": [
    "## Toque experiments\n",
    "\n",
    "This is the same version we built when we talked on Sunday."
   ]
  },
  {
   "cell_type": "code",
   "execution_count": null,
   "metadata": {},
   "outputs": [],
   "source": [
    "# TODO:\n",
    "# 1. [URGENT] Make the pragmatic listener be split between a\n",
    "#    speaker like them (what they would expect)\n",
    "#    and a speaker like the one they're listening to.\n",
    "#    We should think about -- is this reasonable...?\n",
    "# 2. [URGENT] Model dog data.\n",
    "# 3. [LEAVE FOR LATER] Make it work with log/exp so we can use\n",
    "#    the lambda parameter. -- don't output the full matrix\n",
    "#    (output the context-restricted matrix)\n",
    "#    Maybe leave this for after presentation.\n",
    "\n",
    "\n",
    "# Before: exp(u_speaker_log + u_addressee_log + length_cost)\n",
    "\n",
    "# Now: (u_speaker + u_addressee) * length_cost\n",
    "\n",
    "# What we'd like to do:\n",
    "# exp(u_speaker_log(w, r)) + exp(u_addressee_log(w, r)) * length_cost\n",
    "\n",
    "\n",
    "# What they would do in single variety formulations\n",
    "# exp(u_log(w, r) + length_cost) --> u(w, r) * length_cost"
   ]
  },
  {
   "cell_type": "code",
   "execution_count": 1,
   "metadata": {},
   "outputs": [],
   "source": [
    "# Initialize agents\n",
    "\n",
    "import model\n",
    "lambda_val = .1\n",
    "can_agent = model.Agent(\"CAN\", lambda_param=lambda_val)\n",
    "us_agent = model.Agent(\"US\", lambda_param=lambda_val)\n",
    "uk_agent = model.Agent(\"UK\", lambda_param=lambda_val)"
   ]
  },
  {
   "cell_type": "code",
   "execution_count": 2,
   "metadata": {},
   "outputs": [
    {
     "name": "stdout",
     "output_type": "stream",
     "text": [
      "can -> us ['BANANA', 'LAMP', 'PEN'] {'banana': 1.0}\n",
      "can -> us ['SODAPOP', 'LAMP', 'PEN'] {'soda': 0.5, 'pop': 0.5}\n",
      "can -> can ['SODAPOP', 'LAMP', 'PEN'] {'soda': 0.5, 'pop': 0.5}\n"
     ]
    }
   ],
   "source": [
    "# With/without variation in preferred term\n",
    "\n",
    "context_no_mismatch = [\"BANANA\", \"LAMP\", \"PEN\"]\n",
    "context_mismatch = [\"SODAPOP\", \"LAMP\", \"PEN\"]\n",
    "\n",
    "\n",
    "print(\"can -> us\", context_no_mismatch, can_agent.produce_matrix(context_no_mismatch, us_agent))\n",
    "print(\"can -> us\", context_mismatch, can_agent.produce_matrix(context_mismatch, us_agent))\n",
    "print(\"can -> can\", context_mismatch, can_agent.produce_matrix(context_mismatch, can_agent))"
   ]
  },
  {
   "cell_type": "code",
   "execution_count": 3,
   "metadata": {},
   "outputs": [
    {
     "name": "stdout",
     "output_type": "stream",
     "text": [
      "can -> uk ['FRIES', 'PEN', 'BANANA'] {'fries': 0.6666666666666667, 'chips': 0.33333333333333337}\n",
      "\n",
      "can -> uk ['FRIES', 'CRISPS', 'BANANA'] {'fries': 0.6666666666666667, 'chips': 0.33333333333333337}\n",
      "can -> can ['FRIES', 'CRISPS', 'BANANA'] {'fries': 1.0}\n",
      "\n",
      "can -> uk ['CRISPS', 'FRIES', 'BANANA'] {'chips': 0.5, 'crisps': 0.5}\n",
      "can -> can ['CRISPS', 'FRIES', 'BANANA'] {'chips': 1.0}\n"
     ]
    }
   ],
   "source": [
    "# Ambiguity case -- based simply on literal listener\n",
    "\n",
    "context_no_ambiguity = [\"FRIES\", \"PEN\", \"BANANA\"]\n",
    "context_ambiguity = [\"FRIES\", \"CRISPS\", \"BANANA\"]\n",
    "context_ambiguity2 = [\"CRISPS\", \"FRIES\", \"BANANA\"]\n",
    "\n",
    "print(\"can -> uk\", context_no_ambiguity, can_agent.produce_matrix(context_no_ambiguity, uk_agent))\n",
    "print(\"\\ncan -> uk\", context_ambiguity, can_agent.produce_matrix(context_ambiguity, uk_agent))\n",
    "print(\"can -> can\", context_ambiguity, can_agent.produce_matrix(context_ambiguity, can_agent))\n",
    "print(\"\\ncan -> uk\", context_ambiguity2, can_agent.produce_matrix(context_ambiguity2, uk_agent))\n",
    "print(\"can -> can\", context_ambiguity2, can_agent.produce_matrix(context_ambiguity2, can_agent))\n"
   ]
  },
  {
   "cell_type": "code",
   "execution_count": 4,
   "metadata": {},
   "outputs": [
    {
     "name": "stdout",
     "output_type": "stream",
     "text": [
      "can -> uk ['FRIES', 'PEN', 'BANANA'] {'fries': 0.6666666666666667, 'chips': 0.33333333333333337}\n",
      "\n",
      "can -> uk ['FRIES', 'CRISPS', 'BANANA'] {'fries': 0.8333333333333334, 'chips': 0.16666666666666666}\n",
      "can -> can ['FRIES', 'CRISPS', 'BANANA'] {'fries': 1.0}\n",
      "\n",
      "can -> uk ['CRISPS', 'PEN', 'BANANA'] {'chips': 0.6666666666666667, 'crisps': 0.33333333333333337}\n",
      "\n",
      "can -> uk ['CRISPS', 'FRIES', 'BANANA'] {'chips': 0.6153846153846154, 'crisps': 0.3846153846153847}\n",
      "can -> can ['CRISPS', 'FRIES', 'BANANA'] {'chips': 1.0}\n"
     ]
    }
   ],
   "source": [
    "# Ambiguity case -- with second layer of recursion\n",
    "\n",
    "context_no_ambiguity = [\"FRIES\", \"PEN\", \"BANANA\"]\n",
    "context_ambiguity = [\"FRIES\", \"CRISPS\", \"BANANA\"]\n",
    "context_no_ambiguity2 = [\"CRISPS\", \"PEN\", \"BANANA\"]\n",
    "context_ambiguity2 = [\"CRISPS\", \"FRIES\", \"BANANA\"]\n",
    "\n",
    "print(\"can -> uk\", context_no_ambiguity, can_agent.produce_matrix(context_no_ambiguity, uk_agent, recurse=True))\n",
    "print(\"\\ncan -> uk\", context_ambiguity, can_agent.produce_matrix(context_ambiguity, uk_agent, recurse=True))\n",
    "print(\"can -> can\", context_ambiguity, can_agent.produce_matrix(context_ambiguity, can_agent, recurse=True))\n",
    "print(\"\\ncan -> uk\", context_no_ambiguity2, can_agent.produce_matrix(context_no_ambiguity2, uk_agent, recurse=True))\n",
    "print(\"\\ncan -> uk\", context_ambiguity2, can_agent.produce_matrix(context_ambiguity2, uk_agent, recurse=True))\n",
    "print(\"can -> can\", context_ambiguity2, can_agent.produce_matrix(context_ambiguity2, can_agent, recurse=True))\n"
   ]
  },
  {
   "cell_type": "code",
   "execution_count": 5,
   "metadata": {},
   "outputs": [
    {
     "name": "stdout",
     "output_type": "stream",
     "text": [
      "can -> us ['TOQUE', 'CAP', 'PEN'] {'toque': 0.25, 'hat': 0.25, 'winter_hat': 0.5}\n",
      "can -> can ['TOQUE', 'CAP', 'PEN'] {'toque': 0.39999999999999997, 'hat': 0.19999999999999998, 'winter_hat': 0.39999999999999997}\n",
      "\n",
      "\n",
      "\n",
      "can -> us ['TOQUE', 'CAP', 'PEN'] {'toque': 0.3333333333333333, 'hat': 0.3333333333333333, 'winter_hat': 0.3333333333333333}\n",
      "can -> can ['TOQUE', 'CAP', 'PEN'] {'toque': 0.5, 'hat': 0.25, 'winter_hat': 0.25}\n"
     ]
    }
   ],
   "source": [
    "# Variety-specific lexical gaps\n",
    "\n",
    "context_with_gap = [\"TOQUE\", \"CAP\", \"PEN\"]\n",
    "\n",
    "print(\"can -> us\", context_with_gap, can_agent.produce_matrix(context_with_gap, us_agent))\n",
    "print(\"can -> can\", context_with_gap, can_agent.produce_matrix(context_with_gap, can_agent))\n",
    "\n",
    "print(\"\\n\\n\")\n",
    "print(\"can -> us\", context_with_gap, can_agent.produce_matrix(context_with_gap, us_agent, length_cost=True))\n",
    "print(\"can -> can\", context_with_gap, can_agent.produce_matrix(context_with_gap, can_agent, length_cost=True))\n"
   ]
  },
  {
   "cell_type": "code",
   "execution_count": 6,
   "metadata": {},
   "outputs": [
    {
     "name": "stdout",
     "output_type": "stream",
     "text": [
      "\n",
      "\n",
      "\n",
      "can -> us ['TOQUE', 'CAP', 'PEN'] {'toque': 0.5258215962441314, 'hat': 0.2112676056338028, 'winter_hat': 0.2629107981220657}\n",
      "can -> can ['TOQUE', 'CAP', 'PEN'] {'toque': 0.5333333333333333, 'hat': 0.2, 'winter_hat': 0.26666666666666666}\n"
     ]
    }
   ],
   "source": [
    "# Variety-specific lexical gaps -- with second layer of recursion\n",
    "# \n",
    "\n",
    "print(\"\\n\\n\")\n",
    "print(\"can -> us\", context_with_gap, can_agent.produce_matrix(context_with_gap, us_agent, length_cost=True, recurse=True))\n",
    "print(\"can -> can\", context_with_gap, can_agent.produce_matrix(context_with_gap, can_agent, length_cost=True, recurse=True))\n"
   ]
  }
 ],
 "metadata": {
  "kernelspec": {
   "display_name": "Python 3",
   "language": "python",
   "name": "python3"
  },
  "language_info": {
   "codemirror_mode": {
    "name": "ipython",
    "version": 3
   },
   "file_extension": ".py",
   "mimetype": "text/x-python",
   "name": "python",
   "nbconvert_exporter": "python",
   "pygments_lexer": "ipython3",
   "version": "3.7.1"
  }
 },
 "nbformat": 4,
 "nbformat_minor": 2
}
