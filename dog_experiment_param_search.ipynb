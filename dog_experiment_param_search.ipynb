{
 "cells": [
  {
   "cell_type": "code",
   "execution_count": 7,
   "metadata": {},
   "outputs": [
    {
     "name": "stdout",
     "output_type": "stream",
     "text": [
      "best settings on average [{'lambda': 3, 'length cost': True, 'length cost weight': 0.7000000000000001, 'speaker weight': 0.5, 'result_trainer': 0.1638268861487039, 'result_child': 0.221259271782283, 'result_avg': 0.19254307896549344}\n",
      " {'lambda': 3, 'length cost': True, 'length cost weight': 0.30000000000000004, 'speaker weight': 0.5, 'result_trainer': 0.1638268861487039, 'result_child': 0.221259271782283, 'result_avg': 0.19254307896549344}\n",
      " {'lambda': 3, 'length cost': True, 'length cost weight': 0.1, 'speaker weight': 0.5, 'result_trainer': 0.1638268861487039, 'result_child': 0.221259271782283, 'result_avg': 0.19254307896549344}]\n"
     ]
    }
   ],
   "source": [
    "import model\n",
    "import pandas as pd\n",
    "from collections import Counter\n",
    "import numpy as np\n",
    "\n",
    "dog_data = pd.read_csv(\"dog_open_ended.csv\")\n",
    "experimental_results = {\"child\": [], \"dog_trainer\": []}\n",
    "for q_num in [\"Q1\", \"Q3\", \"Q4\", \"Q12\", \"Q10\", \"Q6\"]:\n",
    "    n_examples = len(dog_data[q_num][4:])\n",
    "    c = Counter([item.strip().lower() for item in dog_data[q_num][4:]])\n",
    "    result = {w.replace(\" \", \"_\"): round(count / n_examples, 3) for w, count in c.most_common(5)}\n",
    "    \n",
    "    if q_num in [\"Q1\", \"Q4\", \"Q10\"]:\n",
    "        experimental_results[\"dog_trainer\"].append(result)\n",
    "    elif q_num in [\"Q3\", \"Q12\", \"Q6\"]:\n",
    "        experimental_results[\"child\"].append(result)\n",
    "\n",
    "actual = {\"dog_trainer\": [\n",
    "{\"dog\": 0.422, \"dalmatian\": 0.567, \"spotted_dog\": 0.011},\n",
    "{\"dalmatian\": 0.978, \"spotted_dog\": 0.022},\n",
    "{\"pug\": 0.967, \"small_dog\": 0.033}], \"child\": [\n",
    "{\"dog\": 0.522, \"dalmatian\": 0.244, \"spotted_dog\": 0.233},\n",
    "{\"dalmatian\": 0.356, \"spotted_dog\": 0.644},\n",
    "{\"pug\": 0.5, \"small_dog\": 0.5}]}\n",
    "\n",
    "speaker_weights = np.arange(0, 1.25, 0.25)\n",
    "length_cost_weights = np.arange(0.1, 1.1, 0.1)\n",
    "lambdas = [0.1, 1, 3, 5, 10, 15, 20, 30]\n",
    "contexts = [[\"DALMATIAN\", \"CAT\", \"HORSE\"], [\"DALMATIAN\", \"PUG\", \"POODLE\"], [\"PUG\", \"DALMATIAN\", \"POODLE\"]]\n",
    "results = []\n",
    "for length_cost_weight in length_cost_weights:\n",
    "    for speaker_weight in speaker_weights:\n",
    "        for length_cost in [False, True]:\n",
    "            for lambda_val in lambdas:\n",
    "                if length_cost:\n",
    "                    lcw = length_cost_weight\n",
    "                else:\n",
    "                    lcw = 0\n",
    "                child_agent = model.Agent(\"child\", lambda_param=lambda_val, \n",
    "                                          speaker_weight=speaker_weight, length_cost_weight=lcw)\n",
    "                adult_agent = model.Agent(\"general_adult\", lambda_param=lambda_val, \n",
    "                                          speaker_weight=speaker_weight, length_cost_weight=lcw)\n",
    "                dog_trainer_agent = model.Agent(\"dog_trainer\", lambda_param=lambda_val,\n",
    "                                          speaker_weight=speaker_weight, length_cost_weight=lcw)\n",
    "\n",
    "                total_variation_child = 0\n",
    "                total_variation_dog_trainer = 0\n",
    "                for c, context in enumerate(contexts):\n",
    "                    to_child = adult_agent.produce_matrix_mutant(context, child_agent)\n",
    "                    to_dog_trainer = adult_agent.produce_matrix_mutant(context, dog_trainer_agent)\n",
    "\n",
    "                    compare_child = []\n",
    "                    compare_dog_trainer = []\n",
    "                    for word1, prob1 in to_child.items():\n",
    "                        prob2 = actual[\"child\"][c].get(word1, 0)\n",
    "                        compare_child.append(abs(prob1-prob2))\n",
    "\n",
    "                    for word1, prob1 in to_dog_trainer.items():\n",
    "                        prob2 = actual[\"dog_trainer\"][c].get(word1, 0)\n",
    "                        compare_dog_trainer.append(abs(prob1-prob2))\n",
    "\n",
    "                    total_variation_child += sum(compare_child)/2\n",
    "                    total_variation_dog_trainer += sum(compare_dog_trainer)/2\n",
    "        #             print(total_variation_child)\n",
    "\n",
    "                results.append({\"lambda\": lambda_val, \"length cost\": length_cost, \"length cost weight\": lcw, \"speaker weight\": speaker_weight,\n",
    "                                   \"result_trainer\": total_variation_dog_trainer/len(contexts), \n",
    "                                    \"result_child\": total_variation_child/len(contexts), \n",
    "                                    \"result_avg\": (total_variation_child/len(contexts) + total_variation_dog_trainer/len(contexts)) / 2})\n",
    "\n",
    "# print(\"best settings for dog trainer\", np.array(results)[np.argsort([r[\"result_trainer\"] for r in results])][0])\n",
    "# print(\"best settings for child\", np.array(results)[np.argsort([r[\"result_child\"] for r in results])][0])\n",
    "print(\"best settings on average\", np.array(results)[np.argsort([r[\"result_avg\"] for r in results])][:3])"
   ]
  },
  {
   "cell_type": "code",
   "execution_count": null,
   "metadata": {},
   "outputs": [],
   "source": []
  }
 ],
 "metadata": {
  "kernelspec": {
   "display_name": "Python 3",
   "language": "python",
   "name": "python3"
  },
  "language_info": {
   "codemirror_mode": {
    "name": "ipython",
    "version": 3
   },
   "file_extension": ".py",
   "mimetype": "text/x-python",
   "name": "python",
   "nbconvert_exporter": "python",
   "pygments_lexer": "ipython3",
   "version": "3.7.3"
  }
 },
 "nbformat": 4,
 "nbformat_minor": 2
}
