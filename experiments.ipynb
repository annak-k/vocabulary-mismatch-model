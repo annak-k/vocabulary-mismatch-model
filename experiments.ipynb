{
 "cells": [
  {
   "cell_type": "code",
   "execution_count": 1,
   "metadata": {},
   "outputs": [],
   "source": [
    "# Initialize agents\n",
    "\n",
    "import model\n",
    "lambda_val = 1\n",
    "can_agent = model.Agent(\"CAN\", lambda_param=lambda_val)\n",
    "us_agent = model.Agent(\"US\", lambda_param=lambda_val)\n",
    "uk_agent = model.Agent(\"UK\", lambda_param=lambda_val)"
   ]
  },
  {
   "cell_type": "code",
   "execution_count": 2,
   "metadata": {},
   "outputs": [
    {
     "name": "stdout",
     "output_type": "stream",
     "text": [
      "can -> us ['BANANA', 'LAMP', 'PEN'] {'banana': 1.0}\n",
      "can -> us ['SODAPOP', 'LAMP', 'PEN'] {'soda': 0.5, 'pop': 0.5}\n",
      "can -> can ['SODAPOP', 'LAMP', 'PEN'] {'soda': 0.09090909090909091, 'pop': 0.9090909090909091}\n"
     ]
    }
   ],
   "source": [
    "# With/without variation in preferred term\n",
    "\n",
    "context_no_mismatch = [\"BANANA\", \"LAMP\", \"PEN\"]\n",
    "context_mismatch = [\"SODAPOP\", \"LAMP\", \"PEN\"]\n",
    "\n",
    "\n",
    "print(\"can -> us\", context_no_mismatch, can_agent.produce(context_no_mismatch, us_agent))\n",
    "print(\"can -> us\", context_mismatch, can_agent.produce(context_mismatch, us_agent))\n",
    "print(\"can -> can\", context_mismatch, can_agent.produce(context_mismatch, can_agent))"
   ]
  },
  {
   "cell_type": "code",
   "execution_count": 5,
   "metadata": {},
   "outputs": [
    {
     "name": "stdout",
     "output_type": "stream",
     "text": [
      "can -> uk ['FRIES', 'PEN', 'BANANA'] {'chips': 0.585786437626905, 'fries': 0.41421356237309503}\n",
      "\n",
      "can -> uk ['FRIES', 'CRISPS', 'BANANA'] {'chips': 0.585786437626905, 'fries': 0.41421356237309503}\n",
      "can -> can ['FRIES', 'CRISPS', 'BANANA'] {'chips': 0.09090909090909091, 'fries': 0.9090909090909091}\n",
      "\n",
      "can -> uk ['CRISPS', 'FRIES', 'BANANA'] {'chips': 0.8856615814844944, 'crisps': 0.11433841851550566}\n",
      "can -> can ['CRISPS', 'FRIES', 'BANANA'] {'chips': 0.9523809523809524, 'crisps': 0.04761904761904763}\n"
     ]
    }
   ],
   "source": [
    "# Ambiguity case -- based simply on literal listener\n",
    "\n",
    "context_no_ambiguity = [\"FRIES\", \"PEN\", \"BANANA\"]\n",
    "context_ambiguity = [\"FRIES\", \"CRISPS\", \"BANANA\"]\n",
    "context_ambiguity2 = [\"CRISPS\", \"FRIES\", \"BANANA\"]\n",
    "\n",
    "print(\"can -> uk\", context_no_ambiguity, can_agent.produce(context_no_ambiguity, uk_agent))\n",
    "print(\"\\ncan -> uk\", context_ambiguity, can_agent.produce(context_ambiguity, uk_agent))\n",
    "print(\"can -> can\", context_ambiguity, can_agent.produce(context_ambiguity, can_agent))\n",
    "print(\"\\ncan -> uk\", context_ambiguity2, can_agent.produce(context_ambiguity2, uk_agent))\n",
    "print(\"can -> can\", context_ambiguity2, can_agent.produce(context_ambiguity2, can_agent))\n"
   ]
  },
  {
   "cell_type": "code",
   "execution_count": 7,
   "metadata": {},
   "outputs": [
    {
     "name": "stdout",
     "output_type": "stream",
     "text": [
      "can -> uk ['FRIES', 'PEN', 'BANANA'] {'fries': 0.41421356237309503, 'chips': 0.585786437626905}\n",
      "\n",
      "can -> uk ['FRIES', 'CRISPS', 'BANANA'] {'fries': 0.41421356237309503, 'chips': 0.585786437626905}\n",
      "can -> can ['FRIES', 'CRISPS', 'BANANA'] {'fries': 0.9090909090909091, 'chips': 0.09090909090909091}\n",
      "\n",
      "can -> uk ['CRISPS', 'FRIES', 'BANANA'] {'chips': 0.8856615814844944, 'crisps': 0.11433841851550566}\n",
      "can -> can ['CRISPS', 'FRIES', 'BANANA'] {'chips': 0.9523809523809524, 'crisps': 0.04761904761904763}\n"
     ]
    }
   ],
   "source": [
    "# Ambiguity case -- no recursion matrix method -- test to make sure it matches the above\n",
    "\n",
    "context_no_ambiguity = [\"FRIES\", \"PEN\", \"BANANA\"]\n",
    "context_ambiguity = [\"FRIES\", \"CRISPS\", \"BANANA\"]\n",
    "context_ambiguity2 = [\"CRISPS\", \"FRIES\", \"BANANA\"]\n",
    "\n",
    "print(\"can -> uk\", context_no_ambiguity, can_agent.produce_matrix(context_no_ambiguity, uk_agent))\n",
    "print(\"\\ncan -> uk\", context_ambiguity, can_agent.produce_matrix(context_ambiguity, uk_agent))\n",
    "print(\"can -> can\", context_ambiguity, can_agent.produce_matrix(context_ambiguity, can_agent))\n",
    "print(\"\\ncan -> uk\", context_ambiguity2, can_agent.produce_matrix(context_ambiguity2, uk_agent))\n",
    "print(\"can -> can\", context_ambiguity2, can_agent.produce_matrix(context_ambiguity2, can_agent))\n"
   ]
  },
  {
   "cell_type": "code",
   "execution_count": 9,
   "metadata": {},
   "outputs": [
    {
     "name": "stdout",
     "output_type": "stream",
     "text": [
      "can -> uk ['FRIES', 'PEN', 'BANANA'] {'fries': 0.5, 'chips': 0.5}\n",
      "\n",
      "can -> uk ['FRIES', 'CRISPS', 'BANANA'] {'fries': 0.6807847468446716, 'chips': 0.3192152531553284}\n",
      "can -> can ['FRIES', 'CRISPS', 'BANANA'] {'fries': 0.7135856780739275, 'chips': 0.2864143219260725}\n",
      "\n",
      "can -> uk ['CRISPS', 'FRIES', 'BANANA'] {'chips': 0.4396409229446419, 'crisps': 0.5603590770553581}\n",
      "can -> can ['CRISPS', 'FRIES', 'BANANA'] {'chips': 0.4782295408678455, 'crisps': 0.5217704591321545}\n"
     ]
    }
   ],
   "source": [
    "# Ambiguity case -- with second layer of recursion\n",
    "\n",
    "context_no_ambiguity = [\"FRIES\", \"PEN\", \"BANANA\"]\n",
    "context_ambiguity = [\"FRIES\", \"CRISPS\", \"BANANA\"]\n",
    "context_ambiguity2 = [\"CRISPS\", \"FRIES\", \"BANANA\"]\n",
    "\n",
    "print(\"can -> uk\", context_no_ambiguity, can_agent.produce_matrix(context_no_ambiguity, uk_agent, recurse=True))\n",
    "print(\"\\ncan -> uk\", context_ambiguity, can_agent.produce_matrix(context_ambiguity, uk_agent, recurse=True))\n",
    "print(\"can -> can\", context_ambiguity, can_agent.produce_matrix(context_ambiguity, can_agent, recurse=True))\n",
    "print(\"\\ncan -> uk\", context_ambiguity2, can_agent.produce_matrix(context_ambiguity2, uk_agent, recurse=True))\n",
    "print(\"can -> can\", context_ambiguity2, can_agent.produce_matrix(context_ambiguity2, can_agent, recurse=True))\n"
   ]
  },
  {
   "cell_type": "code",
   "execution_count": 2,
   "metadata": {},
   "outputs": [
    {
     "name": "stdout",
     "output_type": "stream",
     "text": [
      "can -> us ['TOQUE', 'CAP', 'PEN'] {'winter_hat': 0.44971979803798, 'toque': 0.10056040392403999, 'hat': 0.44971979803798}\n",
      "can -> can ['TOQUE', 'CAP', 'PEN'] {'winter_hat': 0.3333333333333333, 'toque': 0.3333333333333333, 'hat': 0.3333333333333333}\n"
     ]
    }
   ],
   "source": [
    "# Variety-specific lexical gaps\n",
    "\n",
    "context_with_gap = [\"TOQUE\", \"CAP\", \"PEN\"]\n",
    "\n",
    "print(\"can -> us\", context_with_gap, can_agent.produce(context_with_gap, us_agent))\n",
    "print(\"can -> can\", context_with_gap, can_agent.produce(context_with_gap, can_agent))\n"
   ]
  }
 ],
 "metadata": {
  "kernelspec": {
   "display_name": "Python 3",
   "language": "python",
   "name": "python3"
  },
  "language_info": {
   "codemirror_mode": {
    "name": "ipython",
    "version": 3
   },
   "file_extension": ".py",
   "mimetype": "text/x-python",
   "name": "python",
   "nbconvert_exporter": "python",
   "pygments_lexer": "ipython3",
   "version": "3.7.1"
  }
 },
 "nbformat": 4,
 "nbformat_minor": 2
}
