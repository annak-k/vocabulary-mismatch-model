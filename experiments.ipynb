{
 "cells": [
  {
   "cell_type": "code",
   "execution_count": 2,
   "metadata": {},
   "outputs": [],
   "source": [
    "# Initialize agents\n",
    "\n",
    "import model\n",
    "\n",
    "can_agent = model.Agent(\"CAN\")\n",
    "us_agent = model.Agent(\"US\")\n",
    "uk_agent = model.Agent(\"UK\")"
   ]
  },
  {
   "cell_type": "code",
   "execution_count": 5,
   "metadata": {},
   "outputs": [
    {
     "name": "stdout",
     "output_type": "stream",
     "text": [
      "can -> us ['BANANA', 'LAMP', 'PEN'] {'banana': 1.0}\n",
      "can -> us ['SODAPOP', 'LAMP', 'PEN'] {'soda': 0.5, 'pop': 0.5}\n",
      "can -> can ['SODAPOP', 'LAMP', 'PEN'] {'soda': 0.11181576977811693, 'pop': 0.8881842302218831}\n"
     ]
    }
   ],
   "source": [
    "# With/without variation in preferred term\n",
    "\n",
    "context_no_mismatch = [\"BANANA\", \"LAMP\", \"PEN\"]\n",
    "context_mismatch = [\"SODAPOP\", \"LAMP\", \"PEN\"]\n",
    "\n",
    "\n",
    "print(\"can -> us\", context_no_mismatch, can_agent.produce(context_no_mismatch, us_agent))\n",
    "print(\"can -> us\", context_mismatch, can_agent.produce(context_mismatch, us_agent))\n",
    "print(\"can -> can\", context_mismatch, can_agent.produce(context_mismatch, can_agent))"
   ]
  },
  {
   "cell_type": "code",
   "execution_count": 6,
   "metadata": {},
   "outputs": [
    {
     "name": "stdout",
     "output_type": "stream",
     "text": [
      "can -> uk ['FRIES', 'PEN', 'BANANA'] {'chips': 0.1779148634123364, 'fries': 0.8220851365876637}\n",
      "can -> uk ['FRIES', 'CRISPS', 'BANANA'] {'chips': 0.1779148634123364, 'fries': 0.8220851365876637}\n",
      "can -> can ['FRIES', 'CRISPS', 'BANANA'] {'chips': 0.11181576977811693, 'fries': 0.8881842302218831}\n"
     ]
    }
   ],
   "source": [
    "# Ambiguity case\n",
    "\n",
    "context_no_ambiguity = [\"FRIES\", \"PEN\", \"BANANA\"]\n",
    "context_ambiguity = [\"FRIES\", \"CRISPS\", \"BANANA\"]\n",
    "\n",
    "print(\"can -> uk\", context_no_ambiguity, can_agent.produce(context_no_ambiguity, uk_agent))\n",
    "print(\"can -> uk\", context_ambiguity, can_agent.produce(context_ambiguity, uk_agent))\n",
    "print(\"can -> can\", context_ambiguity, can_agent.produce(context_ambiguity, can_agent))"
   ]
  },
  {
   "cell_type": "code",
   "execution_count": 8,
   "metadata": {},
   "outputs": [
    {
     "name": "stdout",
     "output_type": "stream",
     "text": [
      "can -> us ['TOQUE', 'CAP', 'PEN'] {'toque': 0.621136652316203, 'hat': 0.37886334768379704}\n",
      "can -> can ['TOQUE', 'CAP', 'PEN'] {'toque': 0.5, 'hat': 0.5}\n"
     ]
    }
   ],
   "source": [
    "# Variety-specific lexical gaps\n",
    "\n",
    "context_with_gap = [\"TOQUE\", \"CAP\", \"PEN\"]\n",
    "\n",
    "print(\"can -> us\", context_with_gap, can_agent.produce(context_with_gap, us_agent))\n",
    "print(\"can -> can\", context_with_gap, can_agent.produce(context_with_gap, can_agent))\n"
   ]
  }
 ],
 "metadata": {
  "kernelspec": {
   "display_name": "Python 3",
   "language": "python",
   "name": "python3"
  },
  "language_info": {
   "codemirror_mode": {
    "name": "ipython",
    "version": 3
   },
   "file_extension": ".py",
   "mimetype": "text/x-python",
   "name": "python",
   "nbconvert_exporter": "python",
   "pygments_lexer": "ipython3",
   "version": "3.7.1"
  }
 },
 "nbformat": 4,
 "nbformat_minor": 2
}
