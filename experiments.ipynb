{
 "cells": [
  {
   "cell_type": "code",
   "execution_count": 9,
   "metadata": {},
   "outputs": [],
   "source": [
    "# Initialize agents\n",
    "\n",
    "import model\n",
    "lambda_val = 1\n",
    "can_agent = model.Agent(\"CAN\", lambda_param=lambda_val)\n",
    "us_agent = model.Agent(\"US\", lambda_param=lambda_val)\n",
    "uk_agent = model.Agent(\"UK\", lambda_param=lambda_val)"
   ]
  },
  {
   "cell_type": "code",
   "execution_count": 10,
   "metadata": {},
   "outputs": [
    {
     "name": "stdout",
     "output_type": "stream",
     "text": [
      "can -> us ['BANANA', 'LAMP', 'PEN'] {'banana': 1.0}\n",
      "can -> us ['SODAPOP', 'LAMP', 'PEN'] {'soda': 0.5, 'pop': 0.5}\n",
      "can -> can ['SODAPOP', 'LAMP', 'PEN'] {'soda': 0.9302346025644435, 'pop': 0.06976539743555663}\n"
     ]
    }
   ],
   "source": [
    "# With/without variation in preferred term\n",
    "\n",
    "context_no_mismatch = [\"BANANA\", \"LAMP\", \"PEN\"]\n",
    "context_mismatch = [\"SODAPOP\", \"LAMP\", \"PEN\"]\n",
    "\n",
    "\n",
    "print(\"can -> us\", context_no_mismatch, can_agent.produce(context_no_mismatch, us_agent))\n",
    "print(\"can -> us\", context_mismatch, can_agent.produce(context_mismatch, us_agent))\n",
    "print(\"can -> can\", context_mismatch, can_agent.produce(context_mismatch, can_agent))"
   ]
  },
  {
   "cell_type": "code",
   "execution_count": 11,
   "metadata": {},
   "outputs": [
    {
     "name": "stdout",
     "output_type": "stream",
     "text": [
      "can -> uk ['FRIES', 'PEN', 'BANANA'] {'chips': 0.7179163317727839, 'fries': 0.28208366822721614}\n",
      "can -> uk ['FRIES', 'CRISPS', 'BANANA'] {'chips': 0.7179163317727839, 'fries': 0.28208366822721614}\n",
      "can -> can ['FRIES', 'CRISPS', 'BANANA'] {'chips': 0.9302346025644435, 'fries': 0.06976539743555663}\n"
     ]
    }
   ],
   "source": [
    "# Ambiguity case\n",
    "\n",
    "context_no_ambiguity = [\"FRIES\", \"PEN\", \"BANANA\"]\n",
    "context_ambiguity = [\"FRIES\", \"CRISPS\", \"BANANA\"]\n",
    "\n",
    "print(\"can -> uk\", context_no_ambiguity, can_agent.produce(context_no_ambiguity, uk_agent))\n",
    "print(\"can -> uk\", context_ambiguity, can_agent.produce(context_ambiguity, uk_agent))\n",
    "print(\"can -> can\", context_ambiguity, can_agent.produce(context_ambiguity, can_agent))"
   ]
  },
  {
   "cell_type": "code",
   "execution_count": 12,
   "metadata": {},
   "outputs": [
    {
     "name": "stdout",
     "output_type": "stream",
     "text": [
      "can -> us ['TOQUE', 'CAP', 'PEN'] {'hat': 0.5748671445971371, 'toque': 0.42513285540286283}\n",
      "can -> can ['TOQUE', 'CAP', 'PEN'] {'hat': 0.5, 'toque': 0.5}\n"
     ]
    }
   ],
   "source": [
    "# Variety-specific lexical gaps\n",
    "\n",
    "context_with_gap = [\"TOQUE\", \"CAP\", \"PEN\"]\n",
    "\n",
    "print(\"can -> us\", context_with_gap, can_agent.produce(context_with_gap, us_agent))\n",
    "print(\"can -> can\", context_with_gap, can_agent.produce(context_with_gap, can_agent))\n"
   ]
  }
 ],
 "metadata": {
  "kernelspec": {
   "display_name": "Python 3",
   "language": "python",
   "name": "python3"
  },
  "language_info": {
   "codemirror_mode": {
    "name": "ipython",
    "version": 3
   },
   "file_extension": ".py",
   "mimetype": "text/x-python",
   "name": "python",
   "nbconvert_exporter": "python",
   "pygments_lexer": "ipython3",
   "version": "3.7.1"
  }
 },
 "nbformat": 4,
 "nbformat_minor": 2
}
